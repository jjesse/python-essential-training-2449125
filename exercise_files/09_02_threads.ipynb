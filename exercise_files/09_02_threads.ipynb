{
 "cells": [
  {
   "cell_type": "code",
   "execution_count": 4,
   "id": "48a15793",
   "metadata": {
    "scrolled": true
   },
   "outputs": [],
   "source": [
    "import threading\n",
    "import time"
   ]
  },
  {
   "cell_type": "markdown",
   "id": "5be113b0",
   "metadata": {},
   "source": [
    "## Threads"
   ]
  },
  {
   "cell_type": "code",
   "execution_count": 5,
   "id": "230c796a",
   "metadata": {
    "scrolled": true
   },
   "outputs": [
    {
     "data": {
      "text/plain": [
       "[0, 1, 4, 9, 16]"
      ]
     },
     "execution_count": 5,
     "metadata": {},
     "output_type": "execute_result"
    }
   ],
   "source": [
    "def longSquare(num):\n",
    "    time.sleep(1)\n",
    "    return num**2\n",
    "\n",
    "[longSquare(n) for n in range(0, 5)]\n"
   ]
  },
  {
   "cell_type": "code",
   "execution_count": 6,
   "id": "f105891d",
   "metadata": {},
   "outputs": [],
   "source": [
    "t1 = threading.Thread(target=longSquare, args=(1,))\n",
    "t2 = threading.Thread(target=longSquare, args=(2,))\n",
    "\n",
    "t1.start()\n",
    "t2.start()\n",
    "\n",
    "t1.join()\n",
    "t2.join()\n"
   ]
  },
  {
   "cell_type": "code",
   "execution_count": 7,
   "id": "5be33021",
   "metadata": {},
   "outputs": [
    {
     "name": "stdout",
     "output_type": "stream",
     "text": [
      "{2: 4, 1: 1}\n"
     ]
    }
   ],
   "source": [
    "\n",
    "\n",
    "def longSquare(num, results):\n",
    "    time.sleep(1)\n",
    "    results[num] = num**2\n",
    "\n",
    "results = {}\n",
    "t1 = threading.Thread(target=longSquare, args=(1,results))\n",
    "t2 = threading.Thread(target=longSquare, args=(2,results))\n",
    "\n",
    "t1.start()\n",
    "t2.start()\n",
    "\n",
    "t1.join()\n",
    "t2.join()\n",
    "\n",
    "print(results)\n"
   ]
  },
  {
   "cell_type": "code",
   "execution_count": 8,
   "id": "6f9a6201",
   "metadata": {},
   "outputs": [
    {
     "name": "stdout",
     "output_type": "stream",
     "text": [
      "{23: 529, 11: 121, 7: 49, 38: 1444, 31: 961, 30: 900, 16: 256, 13: 169, 12: 144, 9: 81, 8: 64, 5: 25, 4: 16, 1: 1, 52: 2704, 49: 2401, 48: 2304, 44: 1936, 19: 361, 45: 2025, 41: 1681, 40: 1600, 37: 1369, 36: 1296, 33: 1089, 32: 1024, 28: 784, 29: 841, 25: 625, 24: 576, 57: 3249, 56: 3136, 53: 2809, 18: 324, 15: 225, 21: 441, 14: 196, 10: 100, 0: 0, 6: 36, 3: 9, 2: 4, 51: 2601, 50: 2500, 47: 2209, 46: 2116, 43: 1849, 42: 1764, 39: 1521, 22: 484, 35: 1225, 34: 1156, 20: 400, 17: 289, 27: 729, 26: 676, 58: 3364, 55: 3025, 54: 2916, 99: 9801, 94: 8836, 98: 9604, 91: 8281, 90: 8100, 77: 5929, 78: 6084, 71: 5041, 95: 9025, 80: 6400, 76: 5776, 81: 6561, 73: 5329, 72: 5184, 69: 4761, 93: 8649, 68: 4624, 87: 7569, 65: 4225, 86: 7396, 96: 9216, 83: 6889, 64: 4096, 82: 6724, 79: 6241, 60: 3600, 92: 8464, 61: 3721, 97: 9409, 89: 7921, 84: 7056, 85: 7225, 74: 5476, 75: 5625, 66: 4356, 67: 4489, 70: 4900, 88: 7744, 63: 3969, 62: 3844, 59: 3481}\n"
     ]
    }
   ],
   "source": [
    "\n",
    "\n",
    "def longSquare(num, results):\n",
    "    time.sleep(1)\n",
    "    results[num] = num**2\n",
    "\n",
    "results = {}\n",
    "threads = [threading.Thread(target=longSquare, args=(n, results)) for n in range(0, 100)]\n",
    "[t.start() for t in threads]\n",
    "[t.join() for t in threads]\n",
    "print(results)\n"
   ]
  },
  {
   "cell_type": "code",
   "execution_count": null,
   "id": "c63a0969",
   "metadata": {},
   "outputs": [],
   "source": []
  }
 ],
 "metadata": {
  "kernelspec": {
   "display_name": "Python 3 (ipykernel)",
   "language": "python",
   "name": "python3"
  },
  "language_info": {
   "codemirror_mode": {
    "name": "ipython",
    "version": 3
   },
   "file_extension": ".py",
   "mimetype": "text/x-python",
   "name": "python",
   "nbconvert_exporter": "python",
   "pygments_lexer": "ipython3",
   "version": "3.8.15"
  }
 },
 "nbformat": 4,
 "nbformat_minor": 5
}
